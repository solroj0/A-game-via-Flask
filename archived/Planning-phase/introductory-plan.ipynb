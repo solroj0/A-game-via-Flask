{
 "cells": [
  {
   "cell_type": "markdown",
   "id": "82e5032c-a712-444c-8d69-ecc9ec02ab47",
   "metadata": {},
   "source": [
    "# In this project I wish to create an app through Flask \n",
    "This app will take user input to play a game of Super Tic Tac Toe.\n",
    "This game is played with an inscribed grid within each index of a larger grid.\n",
    "\n",
    "\n"
   ]
  },
  {
   "cell_type": "code",
   "execution_count": null,
   "id": "74d02704-9cc4-462f-84b3-417cd984f35d",
   "metadata": {},
   "outputs": [],
   "source": []
  }
 ],
 "metadata": {
  "kernelspec": {
   "display_name": "Python 3 (ipykernel)",
   "language": "python",
   "name": "python3"
  },
  "language_info": {
   "codemirror_mode": {
    "name": "ipython",
    "version": 3
   },
   "file_extension": ".py",
   "mimetype": "text/x-python",
   "name": "python",
   "nbconvert_exporter": "python",
   "pygments_lexer": "ipython3",
   "version": "3.11.4"
  }
 },
 "nbformat": 4,
 "nbformat_minor": 5
}
